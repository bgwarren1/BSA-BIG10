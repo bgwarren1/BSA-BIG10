{
 "cells": [
  {
   "cell_type": "code",
   "execution_count": 7,
   "metadata": {},
   "outputs": [
    {
     "name": "stdout",
     "output_type": "stream",
     "text": [
      "Home Data Sample:\n",
      "         date location     result  total_yards  opponent_total_yards\n",
      "0  2023-08-26        H  W (56-28)          501                   396\n",
      "1  2023-09-02        H  W (66-14)          668                   345\n",
      "2  2023-09-02        H  W (66-14)          668                   360\n",
      "3  2023-09-02        H  W (66-14)          668                   200\n",
      "4  2023-09-02        H  W (66-14)          668                   402\n",
      "Away Data Sample:\n",
      "         date location     result  total_yards  opponent_total_yards\n",
      "0  2023-09-23        @  W (42-28)          535                   219\n",
      "1  2023-09-23        @  W (42-28)          535                   353\n",
      "2  2023-09-30        @  W (48-41)          498                   564\n",
      "3  2023-09-30        @  W (48-41)          498                   222\n",
      "4  2023-09-30        @  W (48-41)          498                   342\n"
     ]
    },
    {
     "name": "stderr",
     "output_type": "stream",
     "text": [
      "/var/folders/d0/gj8tfnxn3jd2gjx88tk4mp180000gn/T/ipykernel_25588/3292354984.py:16: UserWarning: pandas only supports SQLAlchemy connectable (engine/connection) or database string URI or sqlite3 DBAPI2 connection. Other DBAPI2 objects are not tested. Please consider using SQLAlchemy.\n",
      "  home_offense_df = pd.read_sql(home_offense_query, conn)\n",
      "/var/folders/d0/gj8tfnxn3jd2gjx88tk4mp180000gn/T/ipykernel_25588/3292354984.py:19: UserWarning: pandas only supports SQLAlchemy connectable (engine/connection) or database string URI or sqlite3 DBAPI2 connection. Other DBAPI2 objects are not tested. Please consider using SQLAlchemy.\n",
      "  home_defense_df = pd.read_sql(home_defense_query, conn)\n",
      "/var/folders/d0/gj8tfnxn3jd2gjx88tk4mp180000gn/T/ipykernel_25588/3292354984.py:23: UserWarning: pandas only supports SQLAlchemy connectable (engine/connection) or database string URI or sqlite3 DBAPI2 connection. Other DBAPI2 objects are not tested. Please consider using SQLAlchemy.\n",
      "  away_offense_df = pd.read_sql(away_offense_query, conn)\n",
      "/var/folders/d0/gj8tfnxn3jd2gjx88tk4mp180000gn/T/ipykernel_25588/3292354984.py:26: UserWarning: pandas only supports SQLAlchemy connectable (engine/connection) or database string URI or sqlite3 DBAPI2 connection. Other DBAPI2 objects are not tested. Please consider using SQLAlchemy.\n",
      "  away_defense_df = pd.read_sql(away_defense_query, conn)\n"
     ]
    }
   ],
   "source": [
    "# Data Extraction\n",
    "import pandas as pd\n",
    "import psycopg2\n",
    "\n",
    "# Establish connection to the database\n",
    "conn = psycopg2.connect(\n",
    "    host=\"\",\n",
    "    # port =,\n",
    "    database=\"\",\n",
    "    user=\"\",\n",
    "    password=\"\"\n",
    ")\n",
    "\n",
    "# Query for home games from Offensive_Stats and Defensive_Stats\n",
    "home_offense_query = \"SELECT date, location, result, total_yards FROM Offensive_Stats WHERE location = 'H'\"\n",
    "home_offense_df = pd.read_sql(home_offense_query, conn)\n",
    "\n",
    "home_defense_query = \"SELECT date, location, opponent_total_yards FROM Defensive_Stats WHERE location = 'H'\"\n",
    "home_defense_df = pd.read_sql(home_defense_query, conn)\n",
    "\n",
    "# Query for away games from Offensive_Stats and Defensive_Stats\n",
    "away_offense_query = \"SELECT date, location, result, total_yards FROM Offensive_Stats WHERE location = '@'\"\n",
    "away_offense_df = pd.read_sql(away_offense_query, conn)\n",
    "\n",
    "away_defense_query = \"SELECT date, location, opponent_total_yards FROM Defensive_Stats WHERE location = '@'\"\n",
    "away_defense_df = pd.read_sql(away_defense_query, conn)\n",
    "\n",
    "# Close the connection for now\n",
    "conn.close()\n",
    "\n",
    "# Merge the offensive and defensive data on date and location\n",
    "home_df = pd.merge(home_offense_df, home_defense_df, on=['date', 'location'], how='inner')\n",
    "away_df = pd.merge(away_offense_df, away_defense_df, on=['date', 'location'], how='inner')\n",
    "\n",
    "print(\"Home Data Sample:\")\n",
    "print(home_df.head())\n",
    "\n",
    "print(\"Away Data Sample:\")\n",
    "print(away_df.head())\n",
    "\n",
    "\n"
   ]
  },
  {
   "cell_type": "code",
   "execution_count": 8,
   "metadata": {},
   "outputs": [
    {
     "name": "stdout",
     "output_type": "stream",
     "text": [
      "Home Totals: {'total_points_scored': 23435, 'total_points_allowed': 13912, 'total_yards_for': 289130, 'total_yards_against': 223684, 'win_count': 472, 'loss_count': 137}\n",
      "Away Totals: {'total_points_scored': 13164, 'total_points_allowed': 11580, 'total_yards_for': 182776, 'total_yards_against': 168174, 'win_count': 233, 'loss_count': 184}\n"
     ]
    }
   ],
   "source": [
    "# Comparative Analysis\n",
    "\n",
    "# Function to extract points from the result string\n",
    "def extract_points(result):\n",
    "    # Assumes format 'W (XX-YY)' or 'L (XX-YY)'\n",
    "    points_scored = int(result.split('(')[-1].split('-')[0])\n",
    "    points_allowed = int(result.split('-')[1].split(')')[0])\n",
    "    return points_scored, points_allowed\n",
    "\n",
    "# Apply function to calculate points scored and allowed\n",
    "home_df['points_scored'], home_df['points_allowed'] = zip(*home_df['result'].apply(extract_points))\n",
    "away_df['points_scored'], away_df['points_allowed'] = zip(*away_df['result'].apply(extract_points))\n",
    "\n",
    "# Calculate totals for home games\n",
    "home_totals = {\n",
    "    'total_points_scored': home_df['points_scored'].sum(),\n",
    "    'total_points_allowed': home_df['points_allowed'].sum(),\n",
    "    'total_yards_for': home_df['total_yards'].sum(),\n",
    "    'total_yards_against': home_df['opponent_total_yards'].sum(),\n",
    "    'win_count': (home_df['result'].str.contains('W')).sum(),\n",
    "    'loss_count': (home_df['result'].str.contains('L')).sum()\n",
    "}\n",
    "\n",
    "# Calculate totals for away games\n",
    "away_totals = {\n",
    "    'total_points_scored': away_df['points_scored'].sum(),\n",
    "    'total_points_allowed': away_df['points_allowed'].sum(),\n",
    "    'total_yards_for': away_df['total_yards'].sum(),\n",
    "    'total_yards_against': away_df['opponent_total_yards'].sum(),\n",
    "    'win_count': (away_df['result'].str.contains('W')).sum(),\n",
    "    'loss_count': (away_df['result'].str.contains('L')).sum()\n",
    "}\n",
    "\n",
    "print(\"Home Totals:\", home_totals)\n",
    "print(\"Away Totals:\", away_totals)\n",
    "\n"
   ]
  }
 ],
 "metadata": {
  "kernelspec": {
   "display_name": "Python 3",
   "language": "python",
   "name": "python3"
  },
  "language_info": {
   "codemirror_mode": {
    "name": "ipython",
    "version": 3
   },
   "file_extension": ".py",
   "mimetype": "text/x-python",
   "name": "python",
   "nbconvert_exporter": "python",
   "pygments_lexer": "ipython3",
   "version": "3.12.2"
  },
  "orig_nbformat": 4,
  "vscode": {
   "interpreter": {
    "hash": "aee8b7b246df8f9039afb4144a1f6fd8d2ca17a180786b69acc140d282b71a49"
   }
  }
 },
 "nbformat": 4,
 "nbformat_minor": 2
}
