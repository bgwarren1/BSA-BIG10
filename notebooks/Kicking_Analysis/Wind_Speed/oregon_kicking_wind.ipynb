{
 "cells": [
  {
   "cell_type": "code",
   "execution_count": 10,
   "metadata": {},
   "outputs": [],
   "source": [
    "import pandas as pd\n",
    "import psycopg2\n",
    "import seaborn as sns\n",
    "import matplotlib.pyplot as plt\n",
    "import numpy as np\n",
    "\n",
    "# Connect to my database\n",
    "\n",
    "conn = psycopg2.connect(\n",
    "    host=\"\",\n",
    "    port=\"\",  \n",
    "    database=\"\",  \n",
    "    user=\"\",  \n",
    "    password=\"\"  \n",
    ")\n",
    "\n",
    "cursor = conn.cursor()"
   ]
  },
  {
   "cell_type": "code",
   "execution_count": 11,
   "metadata": {},
   "outputs": [
    {
     "name": "stdout",
     "output_type": "stream",
     "text": [
      "         date location        opponent  fg_1_19  fg_20_29  fg_30_39  fg_40_49  \\\n",
      "0  2023-09-02        H  Portland State        0         0         0         1   \n",
      "1  2023-09-09        @      Texas Tech        0         2         1         0   \n",
      "2  2023-09-16        H          Hawaii        0         1         0         1   \n",
      "3  2023-09-23        H        Colorado        0         0         0         0   \n",
      "4  2023-09-30        @        Stanford        0         0         0         0   \n",
      "\n",
      "   fg_50_plus  longest_fg  fg_percentage  ...  xp_made  points_scored  temp_f  \\\n",
      "0           0          41          100.0  ...        6              9    67.2   \n",
      "1           0          34          100.0  ...        3             12    82.8   \n",
      "2           0          43          100.0  ...        7             13    67.8   \n",
      "3           0           0            0.0  ...        4              4    60.5   \n",
      "4           0           0            0.0  ...        6              6    62.3   \n",
      "\n",
      "   precipitation_in  windspeed_mph  altitude_m  distance_from   FG fg_makes  \\\n",
      "0             0.000            5.4       131.0           0.00  1-1        1   \n",
      "1             0.000           10.6       976.0        1347.73  3-3        3   \n",
      "2             0.000            6.4       131.0           0.00  2-2        2   \n",
      "3             0.006            5.2       131.0           0.00  0-0        0   \n",
      "4             0.040            8.0        30.0         459.49  0-1        0   \n",
      "\n",
      "   fg_attempts  \n",
      "0            1  \n",
      "1            3  \n",
      "2            2  \n",
      "3            0  \n",
      "4            1  \n",
      "\n",
      "[5 rows x 21 columns]\n"
     ]
    },
    {
     "name": "stderr",
     "output_type": "stream",
     "text": [
      "/var/folders/d0/gj8tfnxn3jd2gjx88tk4mp180000gn/T/ipykernel_62030/1824138784.py:10: UserWarning: pandas only supports SQLAlchemy connectable (engine/connection) or database string URI or sqlite3 DBAPI2 connection. Other DBAPI2 objects are not tested. Please consider using SQLAlchemy.\n",
      "  oregon_kicking = pd.read_sql(query, conn)\n"
     ]
    }
   ],
   "source": [
    "import pandas as pd\n",
    "\n",
    "# Query to get the data\n",
    "query = \"\"\"\n",
    "SELECT date, location, opponent, \n",
    "       fg_1_19, fg_20_29, fg_30_39, fg_40_49, fg_50_plus, longest_fg, fg_percentage, fg_made, xp_made, points_scored, temp_f, precipitation_in, windspeed_mph, altitude_m, distance_from\n",
    "FROM Oregon_Kicking_Stats;\n",
    "\"\"\"\n",
    "\n",
    "oregon_kicking = pd.read_sql(query, conn)\n",
    "\n",
    "# FG data provided as a list of strings\n",
    "fg_data = [\n",
    "    \"1-1\", \"3-3\", \"2-2\", \"0-0\", \"0-1\", \"1-2\", \"1-2\", \"0-0\", \"0-1\", \"1-2\",\n",
    "    \"0-0\", \"1-2\", \"1-1\", \"1-1\", \"1-1\", \"0-0\", \"2-2\", \"3-3\", \"1-1\", \"0-0\",\n",
    "    \"1-1\", \"0-0\", \"0-0\", \"2-3\", \"2-2\", \"2-2\", \"0-1\", \"1-1\", \"0-0\", \"2-2\",\n",
    "    \"2-2\", \"1-1\", \"1-1\", \"0-0\", \"1-1\", \"1-1\", \"1-1\", \"0-2\", \"1-1\", \"1-2\",\n",
    "    \"1-1\", \"0-1\", \"0-1\", \"1-2\", \"1-1\", \"1-1\", \"1-1\", \"1-1\", \"0-1\", \"0-0\",\n",
    "    \"0-0\", \"0-1\", \"1-2\", \"1-1\", \"0-0\", \"3-3\", \"0-0\", \"0-1\", \"0-0\", \"1-2\",\n",
    "    \"3-3\", \"0-0\", \"0-0\", \"0-0\", \"0-1\", \"1-1\", \"0-1\", \"1-2\", \"2-2\", \"0-0\",\n",
    "    \"0-1\", \"1-2\", \"1-1\", \"0-0\", \"0-0\", \"0-0\", \"0-1\", \"0-0\", \"0-0\", \"1-1\",\n",
    "    \"1-1\", \"0-0\", \"0-1\", \"2-2\", \"1-1\", \"2-3\", \"2-2\", \"0-0\", \"1-1\", \"1-1\",\n",
    "    \"0-0\", \"1-1\", \"0-0\", \"0-0\", \"0-0\", \"4-5\", \"0-0\", \"0-1\", \"1-2\", \"1-1\",\n",
    "    \"2-2\", \"0-0\", \"4-4\", \"0-0\", \"2-2\", \"1-1\", \"2-3\", \"2-2\", \"3-3\", \"1-1\",\n",
    "    \"2-2\", \"1-2\", \"2-2\", \"0-0\", \"1-1\", \"0-0\", \"1-2\", \"1-1\", \"0-0\", \"1-2\",\n",
    "    \"1-1\", \"1-1\", \"3-3\", \"1-1\", \"2-2\", \"3-4\", \"1-1\", \"2-2\", \"1-1\", \"1-1\",\n",
    "    \"1-2\", \"0-0\", \"0-0\", \"1-1\", \"0-0\", \"0-1\", \"0-0\", \"1-1\", \"1-1\", \"1-2\",\n",
    "    \"3-4\"\n",
    "]\n",
    "\n",
    "# Ensure the length of fg_data matches the length of ucla_kicking DataFrame\n",
    "if len(fg_data) == len(oregon_kicking):\n",
    "    # Add the FG data to the DataFrame\n",
    "    oregon_kicking['FG'] = fg_data\n",
    "\n",
    "    # Split FG column into separate columns for makes and attempts\n",
    "    oregon_kicking[['fg_makes', 'fg_attempts']] = oregon_kicking['FG'].str.split('-', expand=True)\n",
    "\n",
    "    # Convert the makes and attempts columns to numeric, handling non-numeric cases\n",
    "    oregon_kicking['fg_makes'] = pd.to_numeric(oregon_kicking['fg_makes'], errors='coerce')\n",
    "    oregon_kicking['fg_attempts'] = pd.to_numeric(oregon_kicking['fg_attempts'], errors='coerce')\n",
    "\n",
    "    # Calculate FG percentage\n",
    "    oregon_kicking['fg_percentage'] = (oregon_kicking['fg_makes'] / oregon_kicking['fg_attempts']) * 100\n",
    "\n",
    "    # Handle any potential divisions by zero (e.g., if attempts are 0)\n",
    "    oregon_kicking['fg_percentage'] = oregon_kicking['fg_percentage'].fillna(0)\n",
    "\n",
    "    # Display the first few rows of the data\n",
    "    print(oregon_kicking.head())\n",
    "else:\n",
    "    print(f\"Length of fg_data ({len(fg_data)}) does not match length of DataFrame ({len(oregon_kicking)}).\")\n",
    "    \n"
   ]
  },
  {
   "cell_type": "code",
   "execution_count": 12,
   "metadata": {},
   "outputs": [
    {
     "name": "stdout",
     "output_type": "stream",
     "text": [
      "Number of rows in ucla_kicking: 141\n",
      "Number of entries in fg_data: 141\n",
      "The number of rows matches the length of fg_data.\n"
     ]
    }
   ],
   "source": [
    "# Check the number of rows in the ucla_kicking DataFrame\n",
    "num_rows = len(oregon_kicking)\n",
    "print(f\"Number of rows in ucla_kicking: {num_rows}\")\n",
    "\n",
    "# Check the length of the fg_data list\n",
    "num_fg_data = len(fg_data)\n",
    "print(f\"Number of entries in fg_data: {num_fg_data}\")\n",
    "\n",
    "# Check if there is a discrepancy\n",
    "if num_rows != num_fg_data:\n",
    "    print(\"Discrepancy found between the number of rows in ucla_kicking and the length of fg_data.\")\n",
    "else:\n",
    "    print(\"The number of rows matches the length of fg_data.\")\n"
   ]
  },
  {
   "cell_type": "code",
   "execution_count": 3,
   "metadata": {},
   "outputs": [
    {
     "name": "stdout",
     "output_type": "stream",
     "text": [
      "Wind_Speed_Range\n",
      "0-5 mph      34\n",
      "5-10 mph     60\n",
      "10-15 mph    29\n",
      "15-20 mph    14\n",
      "20+ mph       4\n",
      "Name: count, dtype: int64\n"
     ]
    }
   ],
   "source": [
    "# Lets see how many instances of each wind speed fall under arbitrary ranges\n",
    "\n",
    "\n",
    "# Define the wind speed ranges\n",
    "wind_speed_bins = [0, 5, 10, 15, 20, float('inf')]\n",
    "wind_speed_labels = ['0-5 mph', '5-10 mph', '10-15 mph', '15-20 mph', '20+ mph']\n",
    "\n",
    "# Create a new column in the dataframe for wind speed ranges\n",
    "oregon_kicking['Wind_Speed_Range'] = pd.cut(oregon_kicking['windspeed_mph'], bins=wind_speed_bins, labels=wind_speed_labels, right=False)\n",
    "\n",
    "# Count the number of observations in each wind speed range\n",
    "wind_speed_distribution = oregon_kicking['Wind_Speed_Range'].value_counts().sort_index()\n",
    "\n",
    "# Display the distribution\n",
    "print(wind_speed_distribution)\n"
   ]
  },
  {
   "cell_type": "code",
   "execution_count": 13,
   "metadata": {},
   "outputs": [],
   "source": [
    "oregon_kicking['Wind_Range'] = pd.cut(\n",
    "    oregon_kicking['windspeed_mph'], \n",
    "    bins=[-np.inf, 5, 10, 15, 20, 100], \n",
    "    labels=['<5', '5-10', '10-15', '15-20', '20+']\n",
    ")"
   ]
  },
  {
   "cell_type": "code",
   "execution_count": 14,
   "metadata": {},
   "outputs": [
    {
     "name": "stderr",
     "output_type": "stream",
     "text": [
      "/var/folders/d0/gj8tfnxn3jd2gjx88tk4mp180000gn/T/ipykernel_62030/3890467483.py:9: FutureWarning: The default of observed=False is deprecated and will be changed to True in a future version of pandas. Pass observed=False to retain current behavior or observed=True to adopt the future default and silence this warning.\n",
      "  wind_speed_fg_totals = oregon_kicking.groupby('Wind_Speed_Range').agg({'fg_makes': 'sum', 'fg_attempts': 'sum'})\n"
     ]
    },
    {
     "data": {
      "image/png": "[encoded data removed]",
      "text/plain": [
       "<Figure size 1200x600 with 1 Axes>"
      ]
     },
     "metadata": {},
     "output_type": "display_data"
    }
   ],
   "source": [
    "# Define the wind speed ranges\n",
    "wind_speed_bins = [0, 5, 10, 15, 20, float('inf')]\n",
    "wind_speed_labels = ['0-5 mph', '5-10 mph', '10-15 mph', '15-20 mph', '20+ mph']\n",
    "\n",
    "# Create a new column in the dataframe for wind speed ranges\n",
    "oregon_kicking['Wind_Speed_Range'] = pd.cut(oregon_kicking['windspeed_mph'], bins=wind_speed_bins, labels=wind_speed_labels, right=False)\n",
    "\n",
    "# Calculate total FG makes and attempts for each wind speed range\n",
    "wind_speed_fg_totals = oregon_kicking.groupby('Wind_Speed_Range').agg({'fg_makes': 'sum', 'fg_attempts': 'sum'})\n",
    "\n",
    "# Calculate FG percentage for each wind speed range\n",
    "wind_speed_fg_totals['Wind_Range_Avg_FG%'] = (wind_speed_fg_totals['fg_makes'] / wind_speed_fg_totals['fg_attempts']) * 100\n",
    "\n",
    "# Calculate the overall FG percentage across all wind speed ranges\n",
    "overall_fg_makes = oregon_kicking['fg_makes'].sum()\n",
    "overall_fg_attempts = oregon_kicking['fg_attempts'].sum()\n",
    "overall_avg_fg = (overall_fg_makes / overall_fg_attempts) * 100\n",
    "\n",
    "# Prepare data for plotting\n",
    "avg_data = pd.DataFrame({\n",
    "    'Wind_Range': wind_speed_fg_totals.index,\n",
    "    'Overall_Avg_FG%': [overall_avg_fg] * len(wind_speed_fg_totals),\n",
    "    'Wind_Range_Avg_FG%': wind_speed_fg_totals['Wind_Range_Avg_FG%'].values\n",
    "})\n",
    "\n",
    "# Plotting\n",
    "plt.figure(figsize=(12, 6))\n",
    "bar_width = 0.35\n",
    "\n",
    "plt.bar(avg_data['Wind_Range'], avg_data['Overall_Avg_FG%'], width=bar_width, label='Overall Avg FG%', color='blue', align='center')\n",
    "plt.bar(avg_data['Wind_Range'], avg_data['Wind_Range_Avg_FG%'], width=bar_width, label='Windspeed Range Avg FG%', color='orange', align='edge')\n",
    "\n",
    "plt.xlabel('Windspeed Range (mph)')\n",
    "plt.ylabel('Field Goal Percentage (%)')\n",
    "plt.title('Overall vs Windspeed Range Average Field Goal Percentage')\n",
    "plt.legend()\n",
    "\n",
    "plt.show()\n",
    "\n"
   ]
  },
  {
   "cell_type": "code",
   "execution_count": null,
   "metadata": {},
   "outputs": [],
   "source": []
  }
 ],
 "metadata": {
  "kernelspec": {
   "display_name": "Python 3",
   "language": "python",
   "name": "python3"
  },
  "language_info": {
   "codemirror_mode": {
    "name": "ipython",
    "version": 3
   },
   "file_extension": ".py",
   "mimetype": "text/x-python",
   "name": "python",
   "nbconvert_exporter": "python",
   "pygments_lexer": "ipython3",
   "version": "3.12.2"
  },
  "orig_nbformat": 4,
  "vscode": {
   "interpreter": {
    "hash": "aee8b7b246df8f9039afb4144a1f6fd8d2ca17a180786b69acc140d282b71a49"
   }
  }
 },
 "nbformat": 4,
 "nbformat_minor": 2
}
