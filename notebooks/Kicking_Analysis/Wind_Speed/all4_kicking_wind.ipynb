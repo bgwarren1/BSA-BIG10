{
 "cells": [
  {
   "cell_type": "code",
   "execution_count": 25,
   "metadata": {},
   "outputs": [],
   "source": [
    "import pandas as pd\n",
    "import psycopg2\n",
    "import seaborn as sns\n",
    "import matplotlib.pyplot as plt\n",
    "import numpy as np\n",
    "\n",
    "# Connect to my database\n",
    "\n",
    "conn = psycopg2.connect(\n",
    "    host=\"\",\n",
    "    port=\"\",  \n",
    "    database=\"\",  \n",
    "    user=\"\",  \n",
    "    password=\"\"  \n",
    ")\n",
    "\n",
    "cursor = conn.cursor()"
   ]
  },
  {
   "cell_type": "code",
   "execution_count": 26,
   "metadata": {},
   "outputs": [
    {
     "name": "stderr",
     "output_type": "stream",
     "text": [
      "/var/folders/d0/gj8tfnxn3jd2gjx88tk4mp180000gn/T/ipykernel_62093/2349219686.py:24: UserWarning: pandas only supports SQLAlchemy connectable (engine/connection) or database string URI or sqlite3 DBAPI2 connection. Other DBAPI2 objects are not tested. Please consider using SQLAlchemy.\n",
      "  ucla_kicking = pd.read_sql(query_ucla, conn)\n",
      "/var/folders/d0/gj8tfnxn3jd2gjx88tk4mp180000gn/T/ipykernel_62093/2349219686.py:25: UserWarning: pandas only supports SQLAlchemy connectable (engine/connection) or database string URI or sqlite3 DBAPI2 connection. Other DBAPI2 objects are not tested. Please consider using SQLAlchemy.\n",
      "  usc_kicking = pd.read_sql(query_usc, conn)\n",
      "/var/folders/d0/gj8tfnxn3jd2gjx88tk4mp180000gn/T/ipykernel_62093/2349219686.py:26: UserWarning: pandas only supports SQLAlchemy connectable (engine/connection) or database string URI or sqlite3 DBAPI2 connection. Other DBAPI2 objects are not tested. Please consider using SQLAlchemy.\n",
      "  washington_kicking = pd.read_sql(query_washington, conn)\n",
      "/var/folders/d0/gj8tfnxn3jd2gjx88tk4mp180000gn/T/ipykernel_62093/2349219686.py:27: UserWarning: pandas only supports SQLAlchemy connectable (engine/connection) or database string URI or sqlite3 DBAPI2 connection. Other DBAPI2 objects are not tested. Please consider using SQLAlchemy.\n",
      "  oregon_kicking = pd.read_sql(query_oregon, conn)\n"
     ]
    }
   ],
   "source": [
    "# Query to retrieve data for each school\n",
    "query_ucla = \"\"\"\n",
    "SELECT date, location, opponent, \n",
    "       fg_1_19, fg_20_29, fg_30_39, fg_40_49, fg_50_plus, longest_fg, fg_percentage, fg_made, xp_made, points_scored, temp_f, precipitation_in, windspeed_mph, altitude_m, distance_from\n",
    "FROM UCLA_Kicking_Stats;\n",
    "\"\"\"\n",
    "query_usc = \"\"\"\n",
    "SELECT date, location, opponent, \n",
    "       fg_1_19, fg_20_29, fg_30_39, fg_40_49, fg_50_plus, longest_fg, fg_percentage, fg_made, xp_made, points_scored, temp_f, precipitation_in, windspeed_mph, altitude_m, distance_from\n",
    "FROM USC_Kicking_Stats;\n",
    "\"\"\"\n",
    "query_washington = \"\"\"\n",
    "SELECT date, location, opponent, \n",
    "       fg_1_19, fg_20_29, fg_30_39, fg_40_49, fg_50_plus, longest_fg, fg_percentage, fg_made, xp_made, points_scored, temp_f, precipitation_in, windspeed_mph, altitude_m, distance_from\n",
    "FROM Washington_Kicking_Stats;\n",
    "\"\"\"\n",
    "query_oregon = \"\"\"\n",
    "SELECT date, location, opponent, \n",
    "       fg_1_19, fg_20_29, fg_30_39, fg_40_49, fg_50_plus, longest_fg, fg_percentage, fg_made, xp_made, points_scored, temp_f, precipitation_in, windspeed_mph, altitude_m, distance_from\n",
    "FROM Oregon_Kicking_Stats;\n",
    "\"\"\"\n",
    "\n",
    "# Load the data into DataFrames\n",
    "ucla_kicking = pd.read_sql(query_ucla, conn)\n",
    "usc_kicking = pd.read_sql(query_usc, conn)\n",
    "washington_kicking = pd.read_sql(query_washington, conn)\n",
    "oregon_kicking = pd.read_sql(query_oregon, conn)"
   ]
  },
  {
   "cell_type": "code",
   "execution_count": 27,
   "metadata": {},
   "outputs": [
    {
     "name": "stdout",
     "output_type": "stream",
     "text": [
      "         date location          opponent  fg_1_19  fg_20_29  fg_30_39  \\\n",
      "0  2022-09-10        @          Stanford        0         0         0   \n",
      "1  2022-09-17        H      Fresno State        0         0         0   \n",
      "2  2022-09-24        @      Oregon State        0         0         0   \n",
      "3  2022-10-01        H     Arizona State        0         0         0   \n",
      "4  2022-10-08        H  Washington State        0         1         2   \n",
      "\n",
      "   fg_40_49  fg_50_plus  longest_fg  fg_percentage  ...  xp_made  \\\n",
      "0         2           0          45      66.666667  ...        5   \n",
      "1         1           0          41     100.000000  ...        6   \n",
      "2         1           0          42      50.000000  ...        2   \n",
      "3         0           0           0       0.000000  ...        6   \n",
      "4         0           0          31     100.000000  ...        3   \n",
      "\n",
      "   points_scored  temp_f  precipitation_in  windspeed_mph  altitude_m  \\\n",
      "0             11    81.8             0.035           15.4        30.0   \n",
      "1              9    70.3             0.000           10.4        51.0   \n",
      "2              5    63.2             0.000           10.2        70.0   \n",
      "3              6    68.7             0.000            9.3        51.0   \n",
      "4             12    69.7             0.000           11.2        51.0   \n",
      "\n",
      "   distance_from   FG fg_makes  fg_attempts  \n",
      "0         312.15  2-3        2            3  \n",
      "1           0.00  1-1        1            1  \n",
      "2         768.56  1-2        1            2  \n",
      "3           0.00  0-0        0            0  \n",
      "4           0.00  3-3        3            3  \n",
      "\n",
      "[5 rows x 21 columns]\n"
     ]
    }
   ],
   "source": [
    "ucla_fg_data = [\"2-2\", \"0-0\", \"1-1\", \"0-0\", \"2-4\", \"1-1\", \"0-2\", \"0-1\", \"1-3\", \"0\", \n",
    "    \"35\", \"0\", \"0\", \"1-3\", \"1-1\", \"4-4\", \"1-1\", \"1-1\", \"0-1\", \"3-3\", \n",
    "    \"1-2\", \"0-0\", \"0-1\", \"1-1\", \"2-3\", \"0-0\", \"1-1\", \"1-1\", \"1-1\", \"0-1\", \n",
    "    \"3-4\", \"2-2\", \"1-2\", \"1-2\", \"1-2\", \"1-2\", \"0-1\", \"2-2\", \"0-0\", \"0-0\", \n",
    "    \"0-0\", \"2-2\", \"1-1\", \"1-1\", \"2-3\", \"0-0\", \"0-1\", \"0-1\", \"1-1\", \"1-2\", \n",
    "    \"1-1\", \"2-2\", \"0-0\", \"1-2\", \"1-2\", \"0-1\", \"1-1\", \"1-1\", \"0-0\", \"0-0\", \n",
    "    \"3-3\", \"1-2\", \"3-3\", \"1-1\", \"1-2\", \"0-1\", \"0-1\", \"2-2\", \"2-3\", \"1-1\", \n",
    "    \"0-0\", \"1-1\", \"2-3\", \"2-2\", \"0-1\", \"1-1\", \"1-1\", \"1-1\", \"3-4\", \"1-2\", \n",
    "    \"3-3\", \"1-1\", \"3-4\", \"0-0\", \"1-2\", \"2-2\", \"1-2\", \"2-4\", \"0-0\", \"1-1\", \n",
    "    \"1-3\", \"1-1\", \"0-1\", \"1-1\", \"2-3\", \"3-3\", \"1-1\", \"0-0\", \"1-1\", \"2-2\", \n",
    "    \"4-4\", \"0-0\", \"2-2\", \"4-4\", \"1-2\", \"0-1\", \"0-1\", \"0-1\", \"0-0\", \"2-2\", \n",
    "    \"2-2\", \"0-1\", \"1-2\", \"3-3\", \"2-2\", \"1-2\", \"3-3\", \"1-1\", \"1-1\", \"2-2\", \n",
    "    \"1-2\", \"2-4\", \"1-1\", \"2-2\", \"3-3\", \"1-1\", \"0-0\", \"1-2\", \"1-1\", \"0-0\", \n",
    "    \"2-4\", \"0-0\", \"0-1\"] \n",
    "\n",
    "usc_fg_data = [\"2-3\", \"1-1\", \"1-2\", \"0-0\", \"3-3\", \"0-0\", \"1-3\", \"0-0\", \"1-1\", \"2-4\", \"1-1\", \"1-1\", \"1-2\", \"3-3\", \"2-2\", \"1-1\", \"2-2\", \"3-3\",\n",
    "    \"1-2\", \"1-2\", \"2-2\", \"3-4\", \"2-2\", \"3-3\", \"0-2\", \"0-0\", \"2-3\", \"4-4\", \"1-2\", \"1-2\", \"1-2\", \"1-1\", \"1-1\", \"2-2\", \"0-0\", \"0-0\",\n",
    "    \"2-2\", \"2-2\", \"0-1\", \"1-1\", \"1-1\", \"2-2\", \"1-2\", \"1-2\", \"5-5\", \"1-2\", \"0-0\", \"1-1\", \"1-1\", \"1-1\", \"0-1\", \"0-0\", \"1-1\", \"0-0\",\n",
    "    \"2-3\", \"1-1\", \"0-0\", \"0-0\", \"2-3\", \"3-3\", \"0-0\", \"1-1\", \"0-0\", \"2-2\", \"0-1\", \"0-1\", \"2-2\", \"2-2\", \"1-2\", \"0-0\", \"0-0\", \"2-3\",\n",
    "    \"0-1\", \"1-1\", \"2-2\", \"1-1\", \"0-0\", \"0-1\", \"2-3\", \"0-0\", \"1-2\", \"0-0\", \"1-1\", \"0-1\", \"2-2\", \"1-2\", \"1-1\", \"2-2\", \"2-4\", \"0-0\",\n",
    "    \"0-1\", \"1-2\", \"1-1\", \"1-1\", \"3-3\", \"1-1\", \"3-5\", \"0-0\", \"1-1\", \"1-1\", \"0-0\", \"2-3\", \"1-2\", \"0-1\", \"2-2\", \"1-2\", \"2-2\", \"0-0\",\n",
    "    \"2-2\", \"1-1\", \"0-0\", \"1-2\", \"2-2\", \"1-1\", \"0-1\", \"2-2\", \"0-0\", \"1-1\", \"1-1\", \"0-0\", \"0-0\", \"1-1\", \"0-0\", \"1-1\", \"3-3\", \"0-2\",\n",
    "    \"0-0\", \"1-2\", \"0-0\", \"1-1\", \"1-3\", \"4-5\", \"1-1\", \"0-1\", \"2-2\", \"1-1\", \"0-0\", \"1-1\"]  \n",
    "washington_fg_data = [\n",
    "    \"2-2\", \"0-0\", \"0-1\", \"2-2\", \"1-1\", \"1-1\", \"0-0\", \"3-3\", \"0-0\", \"1-1\", \"2-3\", \"0-1\", \"1-2\", \"2-2\", \"3-3\", \"2-2\",\n",
    "    \"1-1\", \"1-1\", \"1-1\", \"4-4\", \"1-1\", \"1-1\", \"0-1\", \"2-3\", \"1-1\", \"3-3\", \"1-2\", \"1-1\", \"2-2\", \"0-1\", \"1-1\", \"1-1\",\n",
    "    \"1-2\", \"1-1\", \"1-1\", \"0-0\", \"4-4\", \"0-0\", \"1-1\", \"1-2\", \"0-0\", \"2-3\", \"1-2\", \"1-2\", \"2-2\", \"1-1\", \"4-4\", \"1-1\",\n",
    "    \"1-1\", \"2-2\", \"2-2\", \"3-3\", \"1-1\", \"0-0\", \"2-4\", \"0-0\", \"1-1\", \"1-1\", \"3-4\", \"1-1\", \"0-0\", \"2-2\", \"0-2\", \"1-1\",\n",
    "    \"2-3\", \"2-2\", \"1-1\", \"2-2\", \"0-1\", \"0-0\", \"1-2\", \"1-1\", \"3-3\", \"0-1\", \"0-0\", \"1-3\", \"0-1\", \"0-1\", \"0-2\", \"3-3\",\n",
    "    \"1-2\", \"0-0\", \"2-3\", \"2-2\", \"0-0\", \"2-3\", \"1-1\", \"0-0\", \"0-2\", \"1-1\", \"0-0\", \"2-2\", \"1-1\", \"1-1\", \"2-3\", \"3-3\",\n",
    "    \"1-1\", \"2-2\", \"0-0\", \"2-3\", \"0-0\", \"1-1\", \"1-1\", \"1-2\", \"2-2\", \"0-0\", \"0-0\", \"3-3\", \"1-2\", \"1-1\", \"1-2\", \"3-3\",\n",
    "    \"1-1\", \"1-1\", \"3-3\", \"1-1\", \"0-0\", \"1-2\", \"2-2\", \"1-2\", \"1-1\", \"3-3\", \"3-3\", \"1-1\", \"0-1\", \"1-1\", \"2-2\", \"0-0\",\n",
    "    \"1-1\", \"0-0\", \"1-1\", \"1-1\", \"2-2\", \"1-1\", \"1-2\", \"2-2\", \"2-2\", \"1-1\"\n",
    "]\n",
    "  \n",
    "oregon_fg_data = [\"1-1\", \"3-3\", \"2-2\", \"0-0\", \"0-1\", \"1-2\", \"1-2\", \"0-0\", \"0-1\", \"1-2\",\n",
    "    \"0-0\", \"1-2\", \"1-1\", \"1-1\", \"1-1\", \"0-0\", \"2-2\", \"3-3\", \"1-1\", \"0-0\",\n",
    "    \"1-1\", \"0-0\", \"0-0\", \"2-3\", \"2-2\", \"2-2\", \"0-1\", \"1-1\", \"0-0\", \"2-2\",\n",
    "    \"2-2\", \"1-1\", \"1-1\", \"0-0\", \"1-1\", \"1-1\", \"1-1\", \"0-2\", \"1-1\", \"1-2\",\n",
    "    \"1-1\", \"0-1\", \"0-1\", \"1-2\", \"1-1\", \"1-1\", \"1-1\", \"1-1\", \"0-1\", \"0-0\",\n",
    "    \"0-0\", \"0-1\", \"1-2\", \"1-1\", \"0-0\", \"3-3\", \"0-0\", \"0-1\", \"0-0\", \"1-2\",\n",
    "    \"3-3\", \"0-0\", \"0-0\", \"0-0\", \"0-1\", \"1-1\", \"0-1\", \"1-2\", \"2-2\", \"0-0\",\n",
    "    \"0-1\", \"1-2\", \"1-1\", \"0-0\", \"0-0\", \"0-0\", \"0-1\", \"0-0\", \"0-0\", \"1-1\",\n",
    "    \"1-1\", \"0-0\", \"0-1\", \"2-2\", \"1-1\", \"2-3\", \"2-2\", \"0-0\", \"1-1\", \"1-1\",\n",
    "    \"0-0\", \"1-1\", \"0-0\", \"0-0\", \"0-0\", \"4-5\", \"0-0\", \"0-1\", \"1-2\", \"1-1\",\n",
    "    \"2-2\", \"0-0\", \"4-4\", \"0-0\", \"2-2\", \"1-1\", \"2-3\", \"2-2\", \"3-3\", \"1-1\",\n",
    "    \"2-2\", \"1-2\", \"2-2\", \"0-0\", \"1-1\", \"0-0\", \"1-2\", \"1-1\", \"0-0\", \"1-2\",\n",
    "    \"1-1\", \"1-1\", \"3-3\", \"1-1\", \"2-2\", \"3-4\", \"1-1\", \"2-2\", \"1-1\", \"1-1\",\n",
    "    \"1-2\", \"0-0\", \"0-0\", \"1-1\", \"0-0\", \"0-1\", \"0-0\", \"1-1\", \"1-1\", \"1-2\",\n",
    "    \"3-4\"]\n",
    "\n",
    "\n",
    "\n",
    "\n",
    "# Add the FG data to the DataFrames\n",
    "ucla_kicking['FG'] = ucla_fg_data\n",
    "usc_kicking['FG'] = usc_fg_data\n",
    "washington_kicking['FG'] = washington_fg_data\n",
    "oregon_kicking['FG'] = oregon_fg_data\n",
    "\n",
    "# Split FG column into separate columns for makes and attempts for each school\n",
    "for df in [ucla_kicking, usc_kicking, washington_kicking, oregon_kicking]:\n",
    "    df[['fg_makes', 'fg_attempts']] = df['FG'].str.split('-', expand=True)\n",
    "    df['fg_makes'] = pd.to_numeric(df['fg_makes'], errors='coerce')\n",
    "    df['fg_attempts'] = pd.to_numeric(df['fg_attempts'], errors='coerce')\n",
    "    df['fg_percentage'] = (df['fg_makes'] / df['fg_attempts']) * 100\n",
    "    df['fg_percentage'] = df['fg_percentage'].fillna(0)\n",
    "\n",
    "\n",
    "\n",
    "print(usc_kicking.head())"
   ]
  },
  {
   "cell_type": "code",
   "execution_count": 28,
   "metadata": {},
   "outputs": [],
   "source": [
    "# Combine the DataFrames\n",
    "combined_kicking = pd.concat([ucla_kicking, usc_kicking, washington_kicking, oregon_kicking])\n",
    "\n",
    "# Reset index if necessary\n",
    "combined_kicking.reset_index(drop=True, inplace=True)\n"
   ]
  },
  {
   "cell_type": "code",
   "execution_count": 29,
   "metadata": {},
   "outputs": [
    {
     "name": "stdout",
     "output_type": "stream",
     "text": [
      "Wind_Speed_Range\n",
      "0-5 mph       51\n",
      "5-10 mph     242\n",
      "10-15 mph    158\n",
      "15-20 mph     65\n",
      "20+ mph       34\n",
      "Name: count, dtype: int64\n"
     ]
    }
   ],
   "source": [
    "# Lets see how many instances of each wind speed fall under arbitrary ranges\n",
    "\n",
    "\n",
    "# Define the wind speed ranges\n",
    "wind_speed_bins = [0, 5, 10, 15, 20, float('inf')]\n",
    "wind_speed_labels = ['0-5 mph', '5-10 mph', '10-15 mph', '15-20 mph', '20+ mph']\n",
    "\n",
    "# Create a new column in the dataframe for wind speed ranges\n",
    "combined_kicking['Wind_Speed_Range'] = pd.cut(combined_kicking['windspeed_mph'], bins=wind_speed_bins, labels=wind_speed_labels, right=False)\n",
    "\n",
    "# Count the number of observations in each wind speed range\n",
    "wind_speed_distribution = combined_kicking['Wind_Speed_Range'].value_counts().sort_index()\n",
    "\n",
    "# Display the distribution\n",
    "print(wind_speed_distribution)\n"
   ]
  },
  {
   "cell_type": "code",
   "execution_count": 30,
   "metadata": {},
   "outputs": [
    {
     "name": "stderr",
     "output_type": "stream",
     "text": [
      "/var/folders/d0/gj8tfnxn3jd2gjx88tk4mp180000gn/T/ipykernel_62093/628469068.py:9: FutureWarning: The default of observed=False is deprecated and will be changed to True in a future version of pandas. Pass observed=False to retain current behavior or observed=True to adopt the future default and silence this warning.\n",
      "  wind_speed_fg_totals = combined_kicking.groupby('Wind_Speed_Range').agg({'fg_makes': 'sum', 'fg_attempts': 'sum'})\n"
     ]
    },
    {
     "data": {
      "image/png": "[encoded data removed]",
      "text/plain": [
       "<Figure size 1200x600 with 1 Axes>"
      ]
     },
     "metadata": {},
     "output_type": "display_data"
    }
   ],
   "source": [
    "# Define the wind speed ranges\n",
    "wind_speed_bins = [0, 5, 10, 15, 20, float('inf')]\n",
    "wind_speed_labels = ['0-5 mph', '5-10 mph', '10-15 mph', '15-20 mph', '20+ mph']\n",
    "\n",
    "# Create a new column in the combined dataframe for wind speed ranges\n",
    "combined_kicking['Wind_Speed_Range'] = pd.cut(combined_kicking['windspeed_mph'], bins=wind_speed_bins, labels=wind_speed_labels, right=False)\n",
    "\n",
    "# Calculate total FG makes and attempts for each wind speed range\n",
    "wind_speed_fg_totals = combined_kicking.groupby('Wind_Speed_Range').agg({'fg_makes': 'sum', 'fg_attempts': 'sum'})\n",
    "\n",
    "# Calculate FG percentage for each wind speed range\n",
    "wind_speed_fg_totals['Wind_Range_Avg_FG%'] = (wind_speed_fg_totals['fg_makes'] / wind_speed_fg_totals['fg_attempts']) * 100\n",
    "\n",
    "# Calculate the overall FG percentage across all wind speed ranges\n",
    "overall_fg_makes = combined_kicking['fg_makes'].sum()\n",
    "overall_fg_attempts = combined_kicking['fg_attempts'].sum()\n",
    "overall_avg_fg = (overall_fg_makes / overall_fg_attempts) * 100\n",
    "\n",
    "# Prepare data for plotting\n",
    "avg_data = pd.DataFrame({\n",
    "    'Wind_Range': wind_speed_fg_totals.index,\n",
    "    'Overall_Avg_FG%': [overall_avg_fg] * len(wind_speed_fg_totals),\n",
    "    'Wind_Range_Avg_FG%': wind_speed_fg_totals['Wind_Range_Avg_FG%'].values\n",
    "})\n",
    "\n",
    "# Plotting\n",
    "plt.figure(figsize=(12, 6))\n",
    "bar_width = 0.35\n",
    "\n",
    "plt.bar(avg_data['Wind_Range'], avg_data['Overall_Avg_FG%'], width=bar_width, label='Overall Avg FG%', color='blue', align='center')\n",
    "plt.bar(avg_data['Wind_Range'], avg_data['Wind_Range_Avg_FG%'], width=bar_width, label='Windspeed Range Avg FG%', color='orange', align='edge')\n",
    "\n",
    "plt.xlabel('Windspeed Range (mph)')\n",
    "plt.ylabel('Field Goal Percentage (%)')\n",
    "plt.title('Overall vs Windspeed Range Average Field Goal Percentage')\n",
    "plt.legend()\n",
    "\n",
    "plt.show()\n",
    "\n"
   ]
  },
  {
   "cell_type": "code",
   "execution_count": 37,
   "metadata": {},
   "outputs": [],
   "source": []
  },
  {
   "cell_type": "code",
   "execution_count": null,
   "metadata": {},
   "outputs": [],
   "source": []
  },
  {
   "cell_type": "code",
   "execution_count": null,
   "metadata": {},
   "outputs": [],
   "source": []
  }
 ],
 "metadata": {
  "kernelspec": {
   "display_name": "Python 3",
   "language": "python",
   "name": "python3"
  },
  "language_info": {
   "codemirror_mode": {
    "name": "ipython",
    "version": 3
   },
   "file_extension": ".py",
   "mimetype": "text/x-python",
   "name": "python",
   "nbconvert_exporter": "python",
   "pygments_lexer": "ipython3",
   "version": "3.12.2"
  },
  "orig_nbformat": 4,
  "vscode": {
   "interpreter": {
    "hash": "aee8b7b246df8f9039afb4144a1f6fd8d2ca17a180786b69acc140d282b71a49"
   }
  }
 },
 "nbformat": 4,
 "nbformat_minor": 2
}
