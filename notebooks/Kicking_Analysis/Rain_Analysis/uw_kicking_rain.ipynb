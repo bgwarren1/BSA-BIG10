{
 "cells": [
  {
   "cell_type": "code",
   "execution_count": 10,
   "metadata": {},
   "outputs": [],
   "source": [
    "import pandas as pd\n",
    "import psycopg2\n",
    "import seaborn as sns\n",
    "import matplotlib.pyplot as plt\n",
    "import numpy as np\n",
    "\n",
    "# Connect to my database\n",
    "\n",
    "conn = psycopg2.connect(\n",
    "    host=\"\",\n",
    "    port=\"\",  \n",
    "    database=\"\",  \n",
    "    user=\"\",  \n",
    "    password=\"\"  \n",
    ")\n",
    "\n",
    "cursor = conn.cursor()"
   ]
  },
  {
   "cell_type": "code",
   "execution_count": null,
   "metadata": {},
   "outputs": [],
   "source": [
    "query_washington = \"\"\"\n",
    "SELECT date, location, opponent, \n",
    "       fg_1_19, fg_20_29, fg_30_39, fg_40_49, fg_50_plus, longest_fg, fg_percentage, fg_made, xp_made, points_scored, temp_f, precipitation_in, windspeed_mph, altitude_m, distance_from\n",
    "FROM Washington_Kicking_Stats;\n",
    "\"\"\"\n",
    "\n",
    "uw_kicking = pd.read_sql(query_washington, conn)\n",
    "\n",
    "washington_fg_data = [\n",
    "    \"2-2\", \"0-0\", \"0-1\", \"2-2\", \"1-1\", \"1-1\", \"0-0\", \"3-3\", \"0-0\", \"1-1\", \"2-3\", \"0-1\", \"1-2\", \"2-2\", \"3-3\", \"2-2\",\n",
    "    \"1-1\", \"1-1\", \"1-1\", \"4-4\", \"1-1\", \"1-1\", \"0-1\", \"2-3\", \"1-1\", \"3-3\", \"1-2\", \"1-1\", \"2-2\", \"0-1\", \"1-1\", \"1-1\",\n",
    "    \"1-2\", \"1-1\", \"1-1\", \"0-0\", \"4-4\", \"0-0\", \"1-1\", \"1-2\", \"0-0\", \"2-3\", \"1-2\", \"1-2\", \"2-2\", \"1-1\", \"4-4\", \"1-1\",\n",
    "    \"1-1\", \"2-2\", \"2-2\", \"3-3\", \"1-1\", \"0-0\", \"2-4\", \"0-0\", \"1-1\", \"1-1\", \"3-4\", \"1-1\", \"0-0\", \"2-2\", \"0-2\", \"1-1\",\n",
    "    \"2-3\", \"2-2\", \"1-1\", \"2-2\", \"0-1\", \"0-0\", \"1-2\", \"1-1\", \"3-3\", \"0-1\", \"0-0\", \"1-3\", \"0-1\", \"0-1\", \"0-2\", \"3-3\",\n",
    "    \"1-2\", \"0-0\", \"2-3\", \"2-2\", \"0-0\", \"2-3\", \"1-1\", \"0-0\", \"0-2\", \"1-1\", \"0-0\", \"2-2\", \"1-1\", \"1-1\", \"2-3\", \"3-3\",\n",
    "    \"1-1\", \"2-2\", \"0-0\", \"2-3\", \"0-0\", \"1-1\", \"1-1\", \"1-2\", \"2-2\", \"0-0\", \"0-0\", \"3-3\", \"1-2\", \"1-1\", \"1-2\", \"3-3\",\n",
    "    \"1-1\", \"1-1\", \"3-3\", \"1-1\", \"0-0\", \"1-2\", \"2-2\", \"1-2\", \"1-1\", \"3-3\", \"3-3\", \"1-1\", \"0-1\", \"1-1\", \"2-2\", \"0-0\",\n",
    "    \"1-1\", \"0-0\", \"1-1\", \"1-1\", \"2-2\", \"1-1\", \"1-2\", \"2-2\", \"2-2\", \"1-1\"]\n",
    "\n",
    "uw_kicking['FG'] = washington_fg_data\n",
    "\n",
    "uw_kicking['fg_makes', 'fg_attempts'] = uw_kicking['FG'].str.split('-', expand = True)\n",
    "uw_kicking['fg_makes'] = pd.to_numeric(uw_kicking['fg_makes'], errors='coerce')\n",
    "uw_kicking['fg_attempts'] = pd.to_numeric(uw_kicking['fg_attempts'], errors='coerce')\n",
    "uw_kicking['fg_percentage'] = (uw_kicking['fg_makes'] / uw_kicking['fg_attempts']) * 100\n",
    "uw_kicking['fg_percentage'] = uw_kicking['fg_percentage'].fillna(0)\n",
    "\n",
    "print(uw_kicking.head())"
   ]
  },
  {
   "cell_type": "code",
   "execution_count": null,
   "metadata": {},
   "outputs": [],
   "source": []
  }
 ],
 "metadata": {
  "kernelspec": {
   "display_name": "Python 3",
   "language": "python",
   "name": "python3"
  },
  "language_info": {
   "codemirror_mode": {
    "name": "ipython",
    "version": 3
   },
   "file_extension": ".py",
   "mimetype": "text/x-python",
   "name": "python",
   "nbconvert_exporter": "python",
   "pygments_lexer": "ipython3",
   "version": "3.12.2"
  },
  "orig_nbformat": 4,
  "vscode": {
   "interpreter": {
    "hash": "aee8b7b246df8f9039afb4144a1f6fd8d2ca17a180786b69acc140d282b71a49"
   }
  }
 },
 "nbformat": 4,
 "nbformat_minor": 2
}
